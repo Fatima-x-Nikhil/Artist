{
 "cells": [
  {
   "cell_type": "code",
   "execution_count": 1,
   "metadata": {},
   "outputs": [],
   "source": [
    "from src.Artist.progressive_trainer import ProgressiveGAN\n",
    "from pytorch_lightning import Trainer\n",
    "from pytorch_lightning.callbacks import ModelCheckpoint"
   ]
  },
  {
   "cell_type": "code",
   "execution_count": 2,
   "metadata": {},
   "outputs": [],
   "source": [
    "iterations = [100000] * 6\n",
    "batch_sizes = [16] * 6\n",
    "\n",
    "gan = ProgressiveGAN(\n",
    "    art_type=\"celeba\", \n",
    "    name=\"Fatima\", \n",
    "    json_path=\"settings.json\",\n",
    "    batch_sizes=batch_sizes, \n",
    "    n_label=1, \n",
    "    display_interval=100, \n",
    "    n=1000,\n",
    "    iterations=iterations, \n",
    "    display_length=32, \n",
    "    initial_step=0, \n",
    "    gpu=False\n",
    ")"
   ]
  },
  {
   "cell_type": "code",
   "execution_count": 3,
   "metadata": {},
   "outputs": [
    {
     "name": "stderr",
     "output_type": "stream",
     "text": [
      "/home/nmelgiri/PycharmProjects/Artist/venv/lib/python3.9/site-packages/pytorch_lightning/utilities/distributed.py:50: UserWarning: ModelCheckpoint(save_last=True, monitor=None) is a redundant configuration. You can save the last checkpoint with ModelCheckpoint(save_top_k=None, monitor=None).\n",
      "  warnings.warn(*args, **kwargs)\n",
      "GPU available: True, used: True\n",
      "TPU available: None, using: 0 TPU cores\n",
      "LOCAL_RANK: 0 - CUDA_VISIBLE_DEVICES: [0]\n"
     ]
    }
   ],
   "source": [
    "checkpoint = ModelCheckpoint(monitor=None, save_top_k=None, save_last=True)\n",
    "\n",
    "trainer = Trainer(\n",
    "    gpus=1,\n",
    "    auto_select_gpus=True,\n",
    "    callbacks=[checkpoint]\n",
    ")"
   ]
  },
  {
   "cell_type": "code",
   "execution_count": null,
   "metadata": {},
   "outputs": [
    {
     "name": "stderr",
     "output_type": "stream",
     "text": [
      "\n",
      "  | Name          | Type          | Params\n",
      "------------------------------------------------\n",
      "0 | generator     | Generator     | 22.9 M\n",
      "1 | discriminator | Discriminator | 25.2 M\n",
      "------------------------------------------------\n",
      "48.1 M    Trainable params\n",
      "0         Non-trainable params\n",
      "48.1 M    Total params\n"
     ]
    },
    {
     "data": {
      "application/vnd.jupyter.widget-view+json": {
       "model_id": "f68353a830e7456ca23fb7c108478622",
       "version_major": 2,
       "version_minor": 0
      },
      "text/plain": [
       "Training: 0it [00:00, ?it/s]"
      ]
     },
     "metadata": {},
     "output_type": "display_data"
    }
   ],
   "source": [
    "trainer.fit(gan)"
   ]
  }
 ],
 "metadata": {
  "kernelspec": {
   "display_name": "Python 3",
   "language": "python",
   "name": "python3"
  },
  "language_info": {
   "codemirror_mode": {
    "name": "ipython",
    "version": 3
   },
   "file_extension": ".py",
   "mimetype": "text/x-python",
   "name": "python",
   "nbconvert_exporter": "python",
   "pygments_lexer": "ipython3",
   "version": "3.9.1"
  }
 },
 "nbformat": 4,
 "nbformat_minor": 1
}
