{
 "cells": [
  {
   "cell_type": "code",
   "execution_count": null,
   "metadata": {},
   "outputs": [],
   "source": [
    "from pytorch_lightning import LightningModule, Trainer\n",
    "from pytorch_lightning.callbacks import ModelCheckpoint\n",
    "from src.models import DCGAN\n",
    "\n",
    "from src.general_trainer import CustomModule\n",
    "from src.progressive_trainer import ProgressiveGAN\n",
    "\n",
    "from tqdm.auto import tqdm"
   ]
  },
  {
   "cell_type": "code",
   "execution_count": null,
   "metadata": {},
   "outputs": [],
   "source": [
    "def progressive_gan(name: str = \"celeba\", art_type: str = \"celeba\", n: int = 100000) -> LightningModule:\n",
    "    gan = ProgressiveGAN(\n",
    "        iterations=[100000] * 6,\n",
    "        name=name,\n",
    "        art_type=art_type,\n",
    "        n=n,\n",
    "        batch_sizes=[2 ** n for n in range(6, 0, -1)],\n",
    "        display_interval=1000,\n",
    "    )\n",
    "    return gan\n",
    "\n",
    "\n",
    "def dcgan(name: str = \"celeba\", art_type: str = \"celeba\", n: int = 100000) -> LightningModule:\n",
    "    gan = CustomModule(\n",
    "        models=DCGAN(name, art_type, img_shape=(3, 64, 64)),\n",
    "        n=n\n",
    "    )\n",
    "    return gan"
   ]
  },
  {
   "cell_type": "code",
   "execution_count": null,
   "metadata": {},
   "outputs": [],
   "source": [
    "gan = progressive_gan(\"celeba\", \"celeba\", 10000)\n",
    "\n",
    "trainer = Trainer(\n",
    "    auto_select_gpus=True,\n",
    "    max_epochs=5,\n",
    "    gpus=1,\n",
    "    callbacks=[ModelCheckpoint(filepath=\"checkpoints/latest/\", save_last=True)]\n",
    ")\n",
    "trainer.fit(gan)"
   ]
  }
 ],
 "metadata": {
  "kernelspec": {
   "display_name": "Python 3",
   "language": "python",
   "name": "python3"
  },
  "language_info": {
   "codemirror_mode": {
    "name": "ipython",
    "version": 3
   },
   "file_extension": ".py",
   "mimetype": "text/x-python",
   "name": "python",
   "nbconvert_exporter": "python",
   "pygments_lexer": "ipython3",
   "version": "3.9.1"
  }
 },
 "nbformat": 4,
 "nbformat_minor": 1
}
