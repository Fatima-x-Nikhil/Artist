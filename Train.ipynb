{
 "cells": [
  {
   "cell_type": "code",
   "execution_count": null,
   "metadata": {},
   "outputs": [],
   "source": [
    "from Artist.progressive_trainer import ProgressiveGAN\n",
    "\n",
    "from pytorch_lightning import Trainer\n",
    "from pytorch_lightning.callbacks import ModelCheckpoint"
   ]
  },
  {
   "cell_type": "code",
   "execution_count": null,
   "metadata": {},
   "outputs": [],
   "source": [
    "iterations = [100000] * 6\n",
    "batch_sizes = [2 ** n for n in range(7, 1, -1)]\n",
    "\n",
    "gan = ProgressiveGAN(\n",
    "    art_type=\"celeba-hq\", \n",
    "    name=\"AI_Artist_Type_1\", \n",
    "    json_path=\"settings.json\",\n",
    "    batch_sizes=batch_sizes, \n",
    "    n_label=1, \n",
    "    display_interval=100, \n",
    "    n=1000,\n",
    "    iterations=iterations, \n",
    "    display_length=64, \n",
    "    initial_step=0, \n",
    "    gpu=True\n",
    ")"
   ]
  },
  {
   "cell_type": "code",
   "execution_count": null,
   "metadata": {},
   "outputs": [],
   "source": [
    "checkpoint = ModelCheckpoint(save_top_k=None, monitor=None)\n",
    "\n",
    "trainer = Trainer(\n",
    "    gpus=1,\n",
    "    auto_select_gpus=True,\n",
    "    callbacks=[checkpoint]\n",
    ")"
   ]
  },
  {
   "cell_type": "code",
   "execution_count": null,
   "metadata": {},
   "outputs": [],
   "source": [
    "trainer.fit(gan)"
   ]
  }
 ],
 "metadata": {
  "kernelspec": {
   "display_name": "Python 3",
   "language": "python",
   "name": "python3"
  },
  "language_info": {
   "codemirror_mode": {
    "name": "ipython",
    "version": 3
   },
   "file_extension": ".py",
   "mimetype": "text/x-python",
   "name": "python",
   "nbconvert_exporter": "python",
   "pygments_lexer": "ipython3",
   "version": "3.9.1"
  }
 },
 "nbformat": 4,
 "nbformat_minor": 1
}
