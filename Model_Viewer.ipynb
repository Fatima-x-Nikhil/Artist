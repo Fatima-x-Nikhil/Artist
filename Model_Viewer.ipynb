{
 "cells": [
  {
   "cell_type": "code",
   "execution_count": null,
   "metadata": {},
   "outputs": [],
   "source": [
    "import json\n",
    "import os\n",
    "\n",
    "import numpy as np\n",
    "import torch\n",
    "from matplotlib import pyplot as plt\n",
    "\n",
    "from src.progressive_trainer import ProgressiveGAN"
   ]
  },
  {
   "cell_type": "code",
   "execution_count": null,
   "metadata": {},
   "outputs": [],
   "source": [
    "torch.no_grad()\n",
    "gan = ProgressiveGAN.load_from_checkpoint(os.path.join(json.load(open(\"src/settings.json\"))[\"filepaths\"][\"model save path\"], \"last.ckpt\"))\n",
    "artist = gan.generator\n",
    "plt.imshow(\n",
    "    artist(\n",
    "        torch.randn(1, gan.code_size).cuda(), \n",
    "        torch.from_numpy(np.array([0])).cuda(), \n",
    "        1, \n",
    "        1.0\n",
    "    ).squeeze().detach().to(\"cpu\").permute(1, 2, 0)\n",
    ")"
   ]
  }
 ],
 "metadata": {
  "kernelspec": {
   "display_name": "Python 3",
   "language": "python",
   "name": "python3"
  },
  "language_info": {
   "codemirror_mode": {
    "name": "ipython",
    "version": 3
   },
   "file_extension": ".py",
   "mimetype": "text/x-python",
   "name": "python",
   "nbconvert_exporter": "python",
   "pygments_lexer": "ipython3",
   "version": "3.9.1"
  }
 },
 "nbformat": 4,
 "nbformat_minor": 1
}
