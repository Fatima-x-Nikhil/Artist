{
 "cells": [
  {
   "cell_type": "code",
   "execution_count": 1,
   "metadata": {},
   "outputs": [],
   "source": [
    "import json\n",
    "import os\n",
    "\n",
    "import numpy as np\n",
    "import torch\n",
    "from matplotlib import pyplot as plt\n",
    "\n",
    "from src.progressive_trainer import ProgressiveGAN"
   ]
  },
  {
   "cell_type": "code",
   "execution_count": 38,
   "metadata": {},
   "outputs": [
    {
     "name": "stderr",
     "output_type": "stream",
     "text": [
      "Clipping input data to the valid range for imshow with RGB data ([0..1] for floats or [0..255] for integers).\n"
     ]
    },
    {
     "data": {
      "text/plain": [
       "<matplotlib.image.AxesImage at 0x7f6a3c43dac0>"
      ]
     },
     "execution_count": 38,
     "metadata": {},
     "output_type": "execute_result"
    },
    {
     "data": {
      "image/png": "[encoded data removed]",
      "text/plain": [
       "<Figure size 432x288 with 1 Axes>"
      ]
     },
     "metadata": {
      "needs_background": "light"
     },
     "output_type": "display_data"
    }
   ],
   "source": [
    "torch.no_grad()\n",
    "gan = ProgressiveGAN.load_from_checkpoint(os.path.join(json.load(open(\"src/settings.json\"))[\"filepaths\"][\"model save path\"], \"last.ckpt\"))\n",
    "artist = gan.generator\n",
    "plt.imshow(\n",
    "    artist(\n",
    "        torch.randn(1, gan.code_size).cuda(), \n",
    "        torch.from_numpy(np.array([0])).cuda(), \n",
    "        0, \n",
    "        1.0\n",
    "    ).squeeze().detach().to(\"cpu\").permute(1, 2, 0)\n",
    ")"
   ]
  },
  {
   "cell_type": "code",
   "execution_count": null,
   "metadata": {},
   "outputs": [],
   "source": [
    "from pprint import pprint\n",
    "step = 2"
   ]
  },
  {
   "cell_type": "code",
   "execution_count": 25,
   "metadata": {},
   "outputs": [
    {
     "data": {
      "text/plain": [
       "odict_keys(['label_embed.weight', 'progression.0.conv.0.conv.bias', 'progression.0.conv.0.conv.weight_orig', 'progression.0.conv.3.conv.bias', 'progression.0.conv.3.conv.weight_orig', 'progression.1.conv.0.conv.bias', 'progression.1.conv.0.conv.weight_orig', 'progression.1.conv.3.conv.bias', 'progression.1.conv.3.conv.weight_orig', 'progression.2.conv.0.conv.bias', 'progression.2.conv.0.conv.weight_orig', 'progression.2.conv.3.conv.bias', 'progression.2.conv.3.conv.weight_orig', 'progression.3.conv.0.conv.bias', 'progression.3.conv.0.conv.weight_orig', 'progression.3.conv.3.conv.bias', 'progression.3.conv.3.conv.weight_orig', 'progression.4.conv.0.conv.bias', 'progression.4.conv.0.conv.weight_orig', 'progression.4.conv.3.conv.bias', 'progression.4.conv.3.conv.weight_orig', 'progression.5.conv.0.conv.bias', 'progression.5.conv.0.conv.weight_orig', 'progression.5.conv.3.conv.bias', 'progression.5.conv.3.conv.weight_orig', 'to_rgb.0.weight', 'to_rgb.0.bias', 'to_rgb.1.weight', 'to_rgb.1.bias', 'to_rgb.2.weight', 'to_rgb.2.bias', 'to_rgb.3.weight', 'to_rgb.3.bias', 'to_rgb.4.weight', 'to_rgb.4.bias', 'to_rgb.5.weight', 'to_rgb.5.bias'])"
      ]
     },
     "execution_count": 25,
     "metadata": {},
     "output_type": "execute_result"
    }
   ],
   "source": [
    "artist.state_dict().keys()"
   ]
  },
  {
   "cell_type": "code",
   "execution_count": 26,
   "metadata": {},
   "outputs": [
    {
     "data": {
      "text/plain": [
       "torch.Size([1, 1])"
      ]
     },
     "execution_count": 26,
     "metadata": {},
     "output_type": "execute_result"
    }
   ],
   "source": [
    "artist.state_dict()[\"label_embed.weight\".format(step)].shape"
   ]
  },
  {
   "cell_type": "code",
   "execution_count": null,
   "metadata": {},
   "outputs": [],
   "source": []
  }
 ],
 "metadata": {
  "kernelspec": {
   "display_name": "Python 3",
   "language": "python",
   "name": "python3"
  },
  "language_info": {
   "codemirror_mode": {
    "name": "ipython",
    "version": 3
   },
   "file_extension": ".py",
   "mimetype": "text/x-python",
   "name": "python",
   "nbconvert_exporter": "python",
   "pygments_lexer": "ipython3",
   "version": "3.9.1"
  }
 },
 "nbformat": 4,
 "nbformat_minor": 1
}
